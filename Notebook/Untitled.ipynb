{
 "cells": [
  {
   "cell_type": "code",
   "execution_count": 101,
   "id": "07bb4a1d",
   "metadata": {},
   "outputs": [],
   "source": [
    "import pandas as pd"
   ]
  },
  {
   "cell_type": "code",
   "execution_count": 102,
   "id": "86a5f2c2",
   "metadata": {},
   "outputs": [],
   "source": [
    "df = pd.read_csv(\"Sample - Superstore.csv\", encoding=\"latin1\")"
   ]
  },
  {
   "cell_type": "code",
   "execution_count": 111,
   "id": "31be5a65",
   "metadata": {},
   "outputs": [
    {
     "data": {
      "text/plain": [
       "{'Category',\n",
       " 'City',\n",
       " 'Country',\n",
       " 'Customer ID',\n",
       " 'Customer Name',\n",
       " 'Discount',\n",
       " 'Order Date',\n",
       " 'Order ID',\n",
       " 'Postal Code',\n",
       " 'Product ID',\n",
       " 'Product Name',\n",
       " 'Profit',\n",
       " 'Quantity',\n",
       " 'Region',\n",
       " 'Row ID',\n",
       " 'Sales',\n",
       " 'Segment',\n",
       " 'Ship Date',\n",
       " 'Ship Mode',\n",
       " 'State',\n",
       " 'Sub-Category'}"
      ]
     },
     "execution_count": 111,
     "metadata": {},
     "output_type": "execute_result"
    }
   ],
   "source": [
    "set(df.columns.tolist())"
   ]
  },
  {
   "cell_type": "code",
   "execution_count": 110,
   "id": "4df6c3b7",
   "metadata": {},
   "outputs": [
    {
     "data": {
      "text/plain": [
       "True"
      ]
     },
     "execution_count": 110,
     "metadata": {},
     "output_type": "execute_result"
    }
   ],
   "source": [
    "a == set(df.columns.tolist())"
   ]
  },
  {
   "cell_type": "code",
   "execution_count": null,
   "id": "0ad5affd",
   "metadata": {},
   "outputs": [],
   "source": [
    "{'Category',\n",
    " 'City',\n",
    " 'Country',\n",
    " 'Customer ID',\n",
    " 'Customer Name',\n",
    " 'Discount',\n",
    " 'Order Date',\n",
    " 'Order ID',\n",
    " 'Postal Code',\n",
    " 'Product ID',\n",
    " 'Product Name',\n",
    " 'Profit',\n",
    " 'Quantity',\n",
    " 'Region',\n",
    " 'Row ID',\n",
    " 'Sales',\n",
    " 'Segment',\n",
    " 'Ship Date',\n",
    " 'Ship Mode',\n",
    " 'State',\n",
    " 'Sub-Category'}"
   ]
  }
 ],
 "metadata": {
  "kernelspec": {
   "display_name": "Python 3 (ipykernel)",
   "language": "python",
   "name": "python3"
  },
  "language_info": {
   "codemirror_mode": {
    "name": "ipython",
    "version": 3
   },
   "file_extension": ".py",
   "mimetype": "text/x-python",
   "name": "python",
   "nbconvert_exporter": "python",
   "pygments_lexer": "ipython3",
   "version": "3.9.13"
  }
 },
 "nbformat": 4,
 "nbformat_minor": 5
}
